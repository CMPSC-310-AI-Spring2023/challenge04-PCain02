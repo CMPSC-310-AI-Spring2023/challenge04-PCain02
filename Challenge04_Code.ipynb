{
  "nbformat": 4,
  "nbformat_minor": 0,
  "metadata": {
    "colab": {
      "provenance": [],
      "authorship_tag": "ABX9TyOjyTdSKkWd2rneE+gWFwS8",
      "include_colab_link": true
    },
    "kernelspec": {
      "name": "python3",
      "display_name": "Python 3"
    },
    "language_info": {
      "name": "python"
    }
  },
  "cells": [
    {
      "cell_type": "markdown",
      "metadata": {
        "id": "view-in-github",
        "colab_type": "text"
      },
      "source": [
        "<a href=\"https://colab.research.google.com/github/CMPSC-310-AI-Spring2023/challenge04/blob/main/Challenge04_Code.ipynb\" target=\"_parent\"><img src=\"https://colab.research.google.com/assets/colab-badge.svg\" alt=\"Open In Colab\"/></a>"
      ]
    },
    {
      "cell_type": "markdown",
      "source": [
        "# Challenge 4: Bayes Algorithm - Multi-class Classification\n",
        "\n",
        "References:\n",
        "\n",
        "*   https://scikit-learn.org/stable/modules/generated/sklearn.datasets.load_wine.html\n",
        "*   https://scikit-learn.org/stable/modules/naive_bayes.html\n",
        "\n",
        "\n"
      ],
      "metadata": {
        "id": "vcrrIOhGjS0Z"
      }
    },
    {
      "cell_type": "markdown",
      "source": [
        "## Data"
      ],
      "metadata": {
        "id": "GEep4-nmFK1A"
      }
    },
    {
      "cell_type": "code",
      "source": [
        "from sklearn import datasets\n",
        "\n",
        "# Load the wine dataset\n",
        "wine = datasets.load_wine()\n",
        "\n",
        "# print the titles of the 13 features\n",
        "print(\"Features: \", wine.feature_names)\n",
        "\n",
        "# print the label - type of wine\n",
        "print(\"Labels: \", wine.target_names)\n",
        "\n",
        "print(\"Shape: \", wine.data.shape)\n",
        "\n",
        "# print the wine data features (top 5 records)\n",
        "print(\"Features:\", wine.data[0:3])\n",
        "\n",
        "# print the wine labels (0:Class_0, 1:class_2, 2:class_2)\n",
        "print(\"Target:\", wine.target, \"\\n\")\n",
        "\n",
        "# Import train_test_split function\n",
        "from sklearn.model_selection import train_test_split\n",
        "\n",
        "# Split dataset into training set and test set\n",
        "# 80% training and 20% test\n",
        "X_train, X_test, y_train, y_test = train_test_split(wine.data, wine.target, test_size=0.2,random_state=109) "
      ],
      "metadata": {
        "id": "mySMxGBmN0pv"
      },
      "execution_count": null,
      "outputs": []
    },
    {
      "cell_type": "markdown",
      "source": [
        "## Gaussian Naive Bayes\n",
        "\n",
        "\n"
      ],
      "metadata": {
        "id": "17Be7mcYIcNk"
      }
    },
    {
      "cell_type": "code",
      "source": [
        "# import Gaussian Naive Bayes model\n",
        "from sklearn.naive_bayes import GaussianNB\n",
        "\n",
        "# import scikit-learn metrics module\n",
        "from sklearn import metrics\n",
        "\n",
        "# create Gaussian classifier\n",
        "gnb = GaussianNB()\n",
        "\n",
        "# train the model using the X, y training sets\n",
        "gnb.fit(X_train, y_train)\n",
        "\n",
        "# predict using test dataset\n",
        "y_pred = gnb.predict(X_test)\n",
        "\n",
        "# output model evaluation metrics\n",
        "print(\"Accuracy:\", metrics.accuracy_score(y_test, y_pred))\n",
        "print(\"Classification Report:\", metrics.classification_report(y_test, y_pred))\n",
        "print(\"Confusion Matrix:\", metrics.confusion_matrix(y_test, y_pred))\n"
      ],
      "metadata": {
        "id": "s5L9pg8gIEet"
      },
      "execution_count": null,
      "outputs": []
    },
    {
      "cell_type": "markdown",
      "source": [
        "## Multinomial Naive Bayes\n"
      ],
      "metadata": {
        "id": "j_CGIIhoInHn"
      }
    },
    {
      "cell_type": "code",
      "source": [
        "# import Multinomial Naive Bayes model\n",
        "from sklearn.naive_bayes import MultinomialNB\n",
        "\n",
        "# import scikit-learn metrics module\n",
        "from sklearn import metrics\n",
        "\n",
        "# create Multinomial classifier\n",
        "mnb = MultinomialNB()\n",
        "\n",
        "# train the model using the X, y training sets\n",
        "mnb.fit(X_train, y_train)\n",
        "\n",
        "# predict using test dataset\n",
        "y_pred = mnb.predict(X_test)\n",
        "\n",
        "# output model evaluation metrics\n",
        "print(\"Accuracy:\", metrics.accuracy_score(y_test, y_pred))\n",
        "print(\"Classification Report:\", metrics.classification_report(y_test, y_pred))\n",
        "print(\"Confusion Matrix:\", metrics.confusion_matrix(y_test, y_pred))"
      ],
      "metadata": {
        "id": "aCG1cMEacwtp"
      },
      "execution_count": null,
      "outputs": []
    },
    {
      "cell_type": "markdown",
      "source": [
        "## Complement Naive Bayes\n"
      ],
      "metadata": {
        "id": "p_BKTflFIpiB"
      }
    },
    {
      "cell_type": "code",
      "source": [
        "# import Complement Naive Bayes model\n",
        "from sklearn.naive_bayes import ComplementNB\n",
        "\n",
        "# import scikit-learn metrics module\n",
        "from sklearn import metrics\n",
        "\n",
        "# create Complement classifier\n",
        "cnb = ComplementNB()\n",
        "\n",
        "# train the model using the X, y training sets\n",
        "cnb.fit(X_train, y_train)\n",
        "\n",
        "# predict using test dataset\n",
        "y_pred = cnb.predict(X_test)\n",
        "\n",
        "# output model evaluation metrics\n",
        "print(\"Accuracy:\", metrics.accuracy_score(y_test, y_pred))\n",
        "print(\"Classification Report:\", metrics.classification_report(y_test, y_pred))\n",
        "print(\"Confusion Matrix:\", metrics.confusion_matrix(y_test, y_pred)) "
      ],
      "metadata": {
        "id": "sDe-nDVfR2G6"
      },
      "execution_count": null,
      "outputs": []
    },
    {
      "cell_type": "markdown",
      "source": [
        "## Bernoulli Naive Bayes"
      ],
      "metadata": {
        "id": "JXg4ilpxPmON"
      }
    },
    {
      "cell_type": "code",
      "source": [
        "# import Bernoulli Naive Bayes model\n",
        "from sklearn.naive_bayes import BernoulliNB\n",
        "\n",
        "# import scikit-learn metrics module\n",
        "from sklearn import metrics\n",
        "\n",
        "# create Bernoulli classifier\n",
        "bnb = BernoulliNB()\n",
        "\n",
        "# train the model using the X, y training sets\n",
        "bnb.fit(X_train, y_train)\n",
        "\n",
        "# predict using test dataset\n",
        "y_pred = bnb.predict(X_test)\n",
        "\n",
        "# output model evaluation metrics\n",
        "print(\"Accuracy:\", metrics.accuracy_score(y_test, y_pred))\n",
        "print(\"Classification Report:\", metrics.classification_report(y_test, y_pred))\n",
        "print(\"Confusion Matrix:\", metrics.confusion_matrix(y_test, y_pred)) "
      ],
      "metadata": {
        "id": "BO57x41_aE-u"
      },
      "execution_count": null,
      "outputs": []
    }
  ]
}