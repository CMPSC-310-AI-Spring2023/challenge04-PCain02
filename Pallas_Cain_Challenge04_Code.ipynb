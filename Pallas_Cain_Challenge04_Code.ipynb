{
  "nbformat": 4,
  "nbformat_minor": 0,
  "metadata": {
    "colab": {
      "provenance": [],
      "include_colab_link": true
    },
    "kernelspec": {
      "name": "python3",
      "display_name": "Python 3"
    },
    "language_info": {
      "name": "python"
    }
  },
  "cells": [
    {
      "cell_type": "markdown",
      "metadata": {
        "id": "view-in-github",
        "colab_type": "text"
      },
      "source": [
        "<a href=\"https://colab.research.google.com/github/CMPSC-310-AI-Spring2023/challenge04-PCain02/blob/main/Pallas_Cain_Challenge04_Code.ipynb\" target=\"_parent\"><img src=\"https://colab.research.google.com/assets/colab-badge.svg\" alt=\"Open In Colab\"/></a>"
      ]
    },
    {
      "cell_type": "markdown",
      "source": [
        "# Challenge 4: Bayes Algorithm - Multi-class Classification\n",
        "\n",
        "References:\n",
        "\n",
        "*   https://scikit-learn.org/stable/modules/generated/sklearn.datasets.load_wine.html\n",
        "*   https://scikit-learn.org/stable/modules/naive_bayes.html\n",
        "\n",
        "\n"
      ],
      "metadata": {
        "id": "vcrrIOhGjS0Z"
      }
    },
    {
      "cell_type": "markdown",
      "source": [
        "## Data"
      ],
      "metadata": {
        "id": "GEep4-nmFK1A"
      }
    },
    {
      "cell_type": "code",
      "source": [
        "from sklearn import datasets\n",
        "\n",
        "# Load the wine dataset\n",
        "wine = datasets.load_wine()\n",
        "\n",
        "# print the titles of the 13 features\n",
        "print(\"Features: \", wine.feature_names)\n",
        "\n",
        "# print the label - type of wine\n",
        "print(\"Labels: \", wine.target_names)\n",
        "\n",
        "print(\"Shape: \", wine.data.shape)\n",
        "\n",
        "# print the wine data features (top 5 records)\n",
        "print(\"Features:\", wine.data[0:3])\n",
        "\n",
        "# print the wine labels (0:Class_0, 1:class_2, 2:class_2)\n",
        "print(\"Target:\", wine.target, \"\\n\")\n",
        "\n",
        "# Import train_test_split function\n",
        "from sklearn.model_selection import train_test_split\n",
        "\n",
        "# Split dataset into training set and test set\n",
        "# 80% training and 20% test\n",
        "X_train, X_test, y_train, y_test = train_test_split(wine.data, wine.target, test_size=0.2,random_state=109)"
      ],
      "metadata": {
        "id": "mySMxGBmN0pv",
        "colab": {
          "base_uri": "https://localhost:8080/"
        },
        "outputId": "8b427391-d892-48f4-cd06-ea243a70c928"
      },
      "execution_count": 10,
      "outputs": [
        {
          "output_type": "stream",
          "name": "stdout",
          "text": [
            "Features:  ['alcohol', 'malic_acid', 'ash', 'alcalinity_of_ash', 'magnesium', 'total_phenols', 'flavanoids', 'nonflavanoid_phenols', 'proanthocyanins', 'color_intensity', 'hue', 'od280/od315_of_diluted_wines', 'proline']\n",
            "Labels:  ['class_0' 'class_1' 'class_2']\n",
            "Shape:  (178, 13)\n",
            "Features: [[1.423e+01 1.710e+00 2.430e+00 1.560e+01 1.270e+02 2.800e+00 3.060e+00\n",
            "  2.800e-01 2.290e+00 5.640e+00 1.040e+00 3.920e+00 1.065e+03]\n",
            " [1.320e+01 1.780e+00 2.140e+00 1.120e+01 1.000e+02 2.650e+00 2.760e+00\n",
            "  2.600e-01 1.280e+00 4.380e+00 1.050e+00 3.400e+00 1.050e+03]\n",
            " [1.316e+01 2.360e+00 2.670e+00 1.860e+01 1.010e+02 2.800e+00 3.240e+00\n",
            "  3.000e-01 2.810e+00 5.680e+00 1.030e+00 3.170e+00 1.185e+03]]\n",
            "Target: [0 0 0 0 0 0 0 0 0 0 0 0 0 0 0 0 0 0 0 0 0 0 0 0 0 0 0 0 0 0 0 0 0 0 0 0 0\n",
            " 0 0 0 0 0 0 0 0 0 0 0 0 0 0 0 0 0 0 0 0 0 0 1 1 1 1 1 1 1 1 1 1 1 1 1 1 1\n",
            " 1 1 1 1 1 1 1 1 1 1 1 1 1 1 1 1 1 1 1 1 1 1 1 1 1 1 1 1 1 1 1 1 1 1 1 1 1\n",
            " 1 1 1 1 1 1 1 1 1 1 1 1 1 1 1 1 1 1 1 2 2 2 2 2 2 2 2 2 2 2 2 2 2 2 2 2 2\n",
            " 2 2 2 2 2 2 2 2 2 2 2 2 2 2 2 2 2 2 2 2 2 2 2 2 2 2 2 2 2 2] \n",
            "\n"
          ]
        }
      ]
    },
    {
      "cell_type": "markdown",
      "source": [
        "## Gaussian Naive Bayes\n",
        "\n",
        "\n"
      ],
      "metadata": {
        "id": "17Be7mcYIcNk"
      }
    },
    {
      "cell_type": "code",
      "source": [
        "# import Gaussian Naive Bayes model\n",
        "from sklearn.naive_bayes import GaussianNB\n",
        "\n",
        "# import scikit-learn metrics module\n",
        "from sklearn import metrics\n",
        "\n",
        "# create Gaussian classifier\n",
        "gnb = GaussianNB()\n",
        "\n",
        "# train the model using the X, y training sets\n",
        "gnb.fit(X_train, y_train)\n",
        "\n",
        "# predict using test dataset\n",
        "y_pred = gnb.predict(X_test)\n",
        "\n",
        "# output model evaluation metrics\n",
        "print(\"Accuracy:\", metrics.accuracy_score(y_test, y_pred))\n",
        "print(\"Classification Report:\", metrics.classification_report(y_test, y_pred))\n",
        "print(\"Confusion Matrix:\", metrics.confusion_matrix(y_test, y_pred))\n"
      ],
      "metadata": {
        "id": "s5L9pg8gIEet",
        "colab": {
          "base_uri": "https://localhost:8080/"
        },
        "outputId": "a7869971-1608-440a-fe10-62b3d0cd34c5"
      },
      "execution_count": 15,
      "outputs": [
        {
          "output_type": "stream",
          "name": "stdout",
          "text": [
            "Accuracy: 0.9444444444444444\n",
            "Classification Report:               precision    recall  f1-score   support\n",
            "\n",
            "           0       1.00      1.00      1.00        13\n",
            "           1       1.00      0.88      0.93        16\n",
            "           2       0.78      1.00      0.88         7\n",
            "\n",
            "    accuracy                           0.94        36\n",
            "   macro avg       0.93      0.96      0.94        36\n",
            "weighted avg       0.96      0.94      0.95        36\n",
            "\n",
            "Confusion Matrix: [[13  0  0]\n",
            " [ 0 14  2]\n",
            " [ 0  0  7]]\n"
          ]
        }
      ]
    },
    {
      "cell_type": "markdown",
      "source": [
        "## Multinomial Naive Bayes\n"
      ],
      "metadata": {
        "id": "j_CGIIhoInHn"
      }
    },
    {
      "cell_type": "code",
      "source": [
        "# import Multinomial Naive Bayes model\n",
        "from sklearn.naive_bayes import MultinomialNB\n",
        "\n",
        "# import scikit-learn metrics module\n",
        "from sklearn import metrics\n",
        "\n",
        "# create Multinomial classifier\n",
        "mnb = MultinomialNB()\n",
        "\n",
        "# train the model using the X, y training sets\n",
        "mnb.fit(X_train, y_train)\n",
        "\n",
        "# predict using test dataset\n",
        "y_pred = mnb.predict(X_test)\n",
        "\n",
        "# output model evaluation metrics\n",
        "print(\"Accuracy:\", metrics.accuracy_score(y_test, y_pred))\n",
        "print(\"Classification Report:\", metrics.classification_report(y_test, y_pred))\n",
        "print(\"Confusion Matrix:\", metrics.confusion_matrix(y_test, y_pred))"
      ],
      "metadata": {
        "id": "aCG1cMEacwtp",
        "colab": {
          "base_uri": "https://localhost:8080/"
        },
        "outputId": "04fbd3ec-9a5d-4c06-9c5e-c114c14162c3"
      },
      "execution_count": 16,
      "outputs": [
        {
          "output_type": "stream",
          "name": "stdout",
          "text": [
            "Accuracy: 0.7777777777777778\n",
            "Classification Report:               precision    recall  f1-score   support\n",
            "\n",
            "           0       0.92      0.92      0.92        13\n",
            "           1       0.85      0.69      0.76        16\n",
            "           2       0.50      0.71      0.59         7\n",
            "\n",
            "    accuracy                           0.78        36\n",
            "   macro avg       0.76      0.77      0.76        36\n",
            "weighted avg       0.81      0.78      0.78        36\n",
            "\n",
            "Confusion Matrix: [[12  0  1]\n",
            " [ 1 11  4]\n",
            " [ 0  2  5]]\n"
          ]
        }
      ]
    },
    {
      "cell_type": "markdown",
      "source": [
        "## Complement Naive Bayes\n"
      ],
      "metadata": {
        "id": "p_BKTflFIpiB"
      }
    },
    {
      "cell_type": "code",
      "source": [
        "# import Complement Naive Bayes model\n",
        "from sklearn.naive_bayes import ComplementNB\n",
        "\n",
        "# import scikit-learn metrics module\n",
        "from sklearn import metrics\n",
        "\n",
        "# create Complement classifier\n",
        "cnb = ComplementNB()\n",
        "\n",
        "# train the model using the X, y training sets\n",
        "cnb.fit(X_train, y_train)\n",
        "\n",
        "# predict using test dataset\n",
        "y_pred = cnb.predict(X_test)\n",
        "\n",
        "# output model evaluation metrics\n",
        "print(\"Accuracy:\", metrics.accuracy_score(y_test, y_pred))\n",
        "print(\"Classification Report:\", metrics.classification_report(y_test, y_pred))\n",
        "print(\"Confusion Matrix:\", metrics.confusion_matrix(y_test, y_pred)) "
      ],
      "metadata": {
        "id": "sDe-nDVfR2G6",
        "colab": {
          "base_uri": "https://localhost:8080/"
        },
        "outputId": "fcd03fcc-7887-454d-a96f-f9bfe30dd219"
      },
      "execution_count": 17,
      "outputs": [
        {
          "output_type": "stream",
          "name": "stdout",
          "text": [
            "Accuracy: 0.7222222222222222\n",
            "Classification Report:               precision    recall  f1-score   support\n",
            "\n",
            "           0       0.76      1.00      0.87        13\n",
            "           1       0.68      0.81      0.74        16\n",
            "           2       0.00      0.00      0.00         7\n",
            "\n",
            "    accuracy                           0.72        36\n",
            "   macro avg       0.48      0.60      0.54        36\n",
            "weighted avg       0.58      0.72      0.64        36\n",
            "\n",
            "Confusion Matrix: [[13  0  0]\n",
            " [ 3 13  0]\n",
            " [ 1  6  0]]\n"
          ]
        },
        {
          "output_type": "stream",
          "name": "stderr",
          "text": [
            "/usr/local/lib/python3.8/dist-packages/sklearn/metrics/_classification.py:1344: UndefinedMetricWarning: Precision and F-score are ill-defined and being set to 0.0 in labels with no predicted samples. Use `zero_division` parameter to control this behavior.\n",
            "  _warn_prf(average, modifier, msg_start, len(result))\n",
            "/usr/local/lib/python3.8/dist-packages/sklearn/metrics/_classification.py:1344: UndefinedMetricWarning: Precision and F-score are ill-defined and being set to 0.0 in labels with no predicted samples. Use `zero_division` parameter to control this behavior.\n",
            "  _warn_prf(average, modifier, msg_start, len(result))\n",
            "/usr/local/lib/python3.8/dist-packages/sklearn/metrics/_classification.py:1344: UndefinedMetricWarning: Precision and F-score are ill-defined and being set to 0.0 in labels with no predicted samples. Use `zero_division` parameter to control this behavior.\n",
            "  _warn_prf(average, modifier, msg_start, len(result))\n"
          ]
        }
      ]
    },
    {
      "cell_type": "markdown",
      "source": [
        "## Bernoulli Naive Bayes"
      ],
      "metadata": {
        "id": "JXg4ilpxPmON"
      }
    },
    {
      "cell_type": "code",
      "source": [
        "# import Bernoulli Naive Bayes model\n",
        "from sklearn.naive_bayes import BernoulliNB\n",
        "\n",
        "# import scikit-learn metrics module\n",
        "from sklearn import metrics\n",
        "\n",
        "# create Bernoulli classifier\n",
        "bnb = BernoulliNB()\n",
        "\n",
        "# train the model using the X, y training sets\n",
        "bnb.fit(X_train, y_train)\n",
        "\n",
        "# predict using test dataset\n",
        "y_pred = bnb.predict(X_test)\n",
        "\n",
        "# output model evaluation metrics\n",
        "print(\"Accuracy:\", metrics.accuracy_score(y_test, y_pred))\n",
        "print(\"Classification Report:\", metrics.classification_report(y_test, y_pred))\n",
        "print(\"Confusion Matrix:\", metrics.confusion_matrix(y_test, y_pred)) "
      ],
      "metadata": {
        "id": "BO57x41_aE-u",
        "colab": {
          "base_uri": "https://localhost:8080/"
        },
        "outputId": "65472843-aba6-4333-c7cd-ffcda694a2c6"
      },
      "execution_count": 18,
      "outputs": [
        {
          "output_type": "stream",
          "name": "stdout",
          "text": [
            "Accuracy: 0.4444444444444444\n",
            "Classification Report:               precision    recall  f1-score   support\n",
            "\n",
            "           0       0.00      0.00      0.00        13\n",
            "           1       0.44      1.00      0.62        16\n",
            "           2       0.00      0.00      0.00         7\n",
            "\n",
            "    accuracy                           0.44        36\n",
            "   macro avg       0.15      0.33      0.21        36\n",
            "weighted avg       0.20      0.44      0.27        36\n",
            "\n",
            "Confusion Matrix: [[ 0 13  0]\n",
            " [ 0 16  0]\n",
            " [ 0  7  0]]\n"
          ]
        },
        {
          "output_type": "stream",
          "name": "stderr",
          "text": [
            "/usr/local/lib/python3.8/dist-packages/sklearn/metrics/_classification.py:1344: UndefinedMetricWarning: Precision and F-score are ill-defined and being set to 0.0 in labels with no predicted samples. Use `zero_division` parameter to control this behavior.\n",
            "  _warn_prf(average, modifier, msg_start, len(result))\n",
            "/usr/local/lib/python3.8/dist-packages/sklearn/metrics/_classification.py:1344: UndefinedMetricWarning: Precision and F-score are ill-defined and being set to 0.0 in labels with no predicted samples. Use `zero_division` parameter to control this behavior.\n",
            "  _warn_prf(average, modifier, msg_start, len(result))\n",
            "/usr/local/lib/python3.8/dist-packages/sklearn/metrics/_classification.py:1344: UndefinedMetricWarning: Precision and F-score are ill-defined and being set to 0.0 in labels with no predicted samples. Use `zero_division` parameter to control this behavior.\n",
            "  _warn_prf(average, modifier, msg_start, len(result))\n"
          ]
        }
      ]
    }
  ]
}